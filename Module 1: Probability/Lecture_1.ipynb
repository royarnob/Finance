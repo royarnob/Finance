{
 "cells": [
  {
   "cell_type": "markdown",
   "metadata": {},
   "source": [
    "#### 1.1 Random Variables\n",
    "\n",
    "Which of the following is a random variable?\n",
    "\n",
    "☑ The number of heads that occur in 10 flips of a fair coin.\n",
    "\n",
    "☑ The temperature in Seattle next Monday at noon.\n",
    "\n",
    "☑ Tomorrow's return on the S&P 500 stock index.\n",
    "\n",
    "☑ The number of students who will enroll in this course as verified learners.\n",
    "\n",
    "***"
   ]
  },
  {
   "cell_type": "markdown",
   "metadata": {},
   "source": [
    "#### 1.2 Probability Distributions\n",
    "\n",
    "True or False: The function $p(x)=x^2$, where $x \\in [0,1]$, is a valid probability density.\n",
    "\n",
    "***Answer Attempt.***\n",
    "If p(x) is a valid probability density function, then we can calculate the value of the sample space:\n",
    "\n",
    "$$\n",
    "\\begin{aligned}\n",
    "\\int ^{1}_{0} p(x) &= \\int ^{1}_{0} x^2 \\\\\n",
    "&= \\left[ \\frac{x^3}{3} \\right]_0 ^1 \\\\\n",
    "\\end{aligned}\n",
    "\n",
    "$$\n",
    "\n",
    "\n",
    "***"
   ]
  },
  {
   "cell_type": "markdown",
   "metadata": {},
   "source": []
  }
 ],
 "metadata": {
  "language_info": {
   "name": "python"
  }
 },
 "nbformat": 4,
 "nbformat_minor": 2
}
